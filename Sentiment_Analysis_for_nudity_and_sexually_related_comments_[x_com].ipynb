{
  "nbformat": 4,
  "nbformat_minor": 0,
  "metadata": {
    "colab": {
      "provenance": [],
      "authorship_tag": "ABX9TyNZPVnzIiaQCcCoCKHKdSmK",
      "include_colab_link": true
    },
    "kernelspec": {
      "name": "python3",
      "display_name": "Python 3"
    },
    "language_info": {
      "name": "python"
    }
  },
  "cells": [
    {
      "cell_type": "markdown",
      "metadata": {
        "id": "view-in-github",
        "colab_type": "text"
      },
      "source": [
        "<a href=\"https://colab.research.google.com/github/soyesiku/Sentiment_Analysis_for_nudity_and_sexually_related_comments/blob/main/Sentiment_Analysis_for_nudity_and_sexually_related_comments_%5Bx_com%5D.ipynb\" target=\"_parent\"><img src=\"https://colab.research.google.com/assets/colab-badge.svg\" alt=\"Open In Colab\"/></a>"
      ]
    },
    {
      "cell_type": "code",
      "execution_count": null,
      "metadata": {
        "id": "cVvobMUabZnG"
      },
      "outputs": [],
      "source": [
        "#installing libraries to be used for this project\n",
        "pip install snscrape pandas\n",
        "pip install transformers datasets torch\n",
        "pip install transformers datasets torch scikit-learn\n",
        "!pip install beautifulsoup4\n",
        "!pip install beautifulsoup4 lxml\n"
      ]
    },
    {
      "cell_type": "code",
      "source": [
        "#importing the libraries\n",
        "import snscrape.modules.twitter as sntwitter\n",
        "import pandas as pd\n",
        "import re\n",
        "import string\n",
        "import nltk\n",
        "from nltk.corpus import stopwords\n",
        "from nltk.tokenize import word_tokenize\n",
        "from nltk.stem import WordNetLemmatizer"
      ],
      "metadata": {
        "id": "DiDxh5y8Bx9B"
      },
      "execution_count": null,
      "outputs": []
    },
    {
      "cell_type": "code",
      "source": [
        "#Importing BeautifulSoup and scraping the X data\n",
        "\n",
        "from bs4 import BeautifulSoup\n",
        "\n",
        "html = \"<html><body><h1>Hello, world!</h1></body></html>\"\n",
        "soup = BeautifulSoup(html, \"lxml\")  # or \"html.parser\"\n",
        "print(soup.h1.text)\n"
      ],
      "metadata": {
        "id": "toJrWqm5B8bx"
      },
      "execution_count": null,
      "outputs": []
    },
    {
      "cell_type": "code",
      "source": [],
      "metadata": {
        "id": "G-3Voh60CR2S"
      },
      "execution_count": null,
      "outputs": []
    },
    {
      "cell_type": "code",
      "source": [
        "from sklearn.feature_extraction.text import TfidfVectorizer\n",
        "from sklearn.model_selection import train_test_split\n",
        "from sklearn.linear_model import LogisticRegression\n",
        "from sklearn.metrics import classification_report\n",
        "\n",
        "# Convert text to TF-IDF vectors"
      ],
      "metadata": {
        "id": "wwh54mgGCTTK"
      },
      "execution_count": null,
      "outputs": []
    },
    {
      "cell_type": "code",
      "source": [],
      "metadata": {
        "id": "UrHO_FvPCVZ6"
      },
      "execution_count": null,
      "outputs": []
    },
    {
      "cell_type": "code",
      "source": [],
      "metadata": {
        "id": "F8Y9cRTSCWyn"
      },
      "execution_count": null,
      "outputs": []
    },
    {
      "cell_type": "code",
      "source": [],
      "metadata": {
        "id": "DyA3W4UhCXQo"
      },
      "execution_count": null,
      "outputs": []
    },
    {
      "cell_type": "code",
      "source": [],
      "metadata": {
        "id": "QAbhjvT-CYMx"
      },
      "execution_count": null,
      "outputs": []
    }
  ]
}